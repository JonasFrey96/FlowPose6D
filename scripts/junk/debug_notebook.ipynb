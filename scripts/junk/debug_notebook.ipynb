{
 "cells": [
  {
   "cell_type": "code",
   "execution_count": null,
   "metadata": {},
   "outputs": [],
   "source": [
    "import torch\n",
    "\n",
    "obj = 14\n",
    "\n",
    "t_in = torch.zeros((100,21,3))\n",
    "\n",
    "t = torch.index_select(input = t_in, dim = 1, index=torch.tensor([obj]) )\n",
    "print(t.shape)\n",
    "\n",
    "def batched_index_select(t, dim, inds):\n",
    "    dummy = inds.unsqueeze(2).expand(inds.size(0), inds.size(1), t.size(2))\n",
    "    out = t.gather(dim, dummy) # b x e x f\n",
    "    return out\n",
    "\n",
    "t_in = torch.zeros((5,7,3))\n",
    "t_in[:,1,:] = 10\n",
    "t_in[:,3,:] = 20\n",
    "t_in[:,2,:] = 30\n",
    "t_in[:,4,:] = 40\n",
    "\n",
    "t_sel = torch.tensor([[1],[2],[3],[1],[2]])\n",
    "print(t_in.shape)\n",
    "out =batched_index_select(t_in, 1, t_sel)\n",
    "print(out.shape)\n",
    "\n",
    "# print(t_sel.shape)\n",
    "# print(t_sel.unsqueeze(2).shape)\n",
    "# print(t_sel.unsqueeze(2).shape)\n",
    "\n",
    "# expand bs, elements, dimensions\n",
    "\n",
    "\n",
    "# t_sel = torch.zeros((5,1,3))\n",
    "# print(t_sel, t_in)\n",
    "# out = torch.gather( t_in, 1, t_sel )\n",
    "print(out)\n",
    "# out = batched_index_select(t_in, 0, t_sel)\n",
    "# out.shape\n",
    "\n",
    "\n"
   ]
  }
 ],
 "metadata": {
  "kernelspec": {
   "display_name": "track",
   "language": "python",
   "name": "track"
  },
  "language_info": {
   "codemirror_mode": {
    "name": "ipython",
    "version": 3
   },
   "file_extension": ".py",
   "mimetype": "text/x-python",
   "name": "python",
   "nbconvert_exporter": "python",
   "pygments_lexer": "ipython3"
  }
 },
 "nbformat": 4,
 "nbformat_minor": 4
}
